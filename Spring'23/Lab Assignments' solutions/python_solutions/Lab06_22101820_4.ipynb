{
  "cells": [
    {
      "cell_type": "code",
      "execution_count": null,
      "metadata": {
        "colab": {
          "base_uri": "https://localhost:8080/"
        },
        "id": "XL56XbB-95bt",
        "outputId": "7d6eebe6-8d10-45a2-e872-c7816e0fab87"
      },
      "outputs": [
        {
          "name": "stdout",
          "output_type": "stream",
          "text": [
            "6\n",
            "720\n"
          ]
        }
      ],
      "source": [
        "#Task1. a\n",
        "def fact(n):\n",
        "  if n== 1:\n",
        "    return 1\n",
        "  return n*fact(n-1)\n",
        "\n",
        "num= int(input())\n",
        "print(fact(num))"
      ]
    },
    {
      "cell_type": "code",
      "execution_count": 4,
      "metadata": {
        "colab": {
          "base_uri": "https://localhost:8080/"
        },
        "id": "oBUXzd2tAQ9n",
        "outputId": "e27be082-3f51-4235-c07c-bff41b36417e"
      },
      "outputs": [
        {
          "name": "stdout",
          "output_type": "stream",
          "text": [
            "21\n"
          ]
        }
      ],
      "source": [
        "#Task1. b\n",
        "def fibonacci(n):\n",
        "  if n<= 1:\n",
        "    return n\n",
        "  return fibonacci(n-1)+ fibonacci(n-2)\n",
        "\n",
        "num= int(input())\n",
        "print(fibonacci(num))"
      ]
    },
    {
      "cell_type": "code",
      "execution_count": null,
      "metadata": {
        "colab": {
          "base_uri": "https://localhost:8080/"
        },
        "id": "GTthA9VPARC_",
        "outputId": "e090afd4-25dd-4b47-fe96-459202a3f96e"
      },
      "outputs": [
        {
          "name": "stdout",
          "output_type": "stream",
          "text": [
            "10\n",
            "20\n",
            "30\n",
            "40\n",
            "50\n",
            "60\n",
            "70\n"
          ]
        }
      ],
      "source": [
        "#Task1. c\n",
        "def print_array(arr, pos):\n",
        "  if pos== len(arr):\n",
        "    return\n",
        "  print(arr[pos])\n",
        "  print_array(arr, pos+1)\n",
        "  \n",
        "\n",
        "arr= [10, 20, 30, 40, 50, 60, 70]\n",
        "print_array(arr, 0)"
      ]
    },
    {
      "cell_type": "code",
      "execution_count": 2,
      "metadata": {
        "colab": {
          "base_uri": "https://localhost:8080/"
        },
        "id": "6NFl4XmsDdT4",
        "outputId": "4d07be71-97aa-4bea-b8f6-6ed394b27459"
      },
      "outputs": [
        {
          "name": "stdout",
          "output_type": "stream",
          "text": [
            "27\n"
          ]
        }
      ],
      "source": [
        "#Task1. d\n",
        "def powerN(value, n_power):\n",
        "  if n_power== 1:\n",
        "    return value\n",
        "\n",
        "  prod= value*powerN(value, n_power-1)\n",
        "  return prod\n",
        "\n",
        "\n",
        "value= int(input())\n",
        "n_power= int(input())\n",
        "print(powerN(value, n_power))"
      ]
    },
    {
      "cell_type": "code",
      "execution_count": 8,
      "metadata": {
        "colab": {
          "base_uri": "https://localhost:8080/"
        },
        "id": "gZSOo-pbE443",
        "outputId": "42a0a753-ede3-4f6f-afea-21ce6cbae875"
      },
      "outputs": [
        {
          "name": "stdout",
          "output_type": "stream",
          "text": [
            "1100010101\n"
          ]
        }
      ],
      "source": [
        "#Task2. a\n",
        "def decimal_to_binary(n):\n",
        "    if n<= 1:\n",
        "        return str(n)\n",
        "    \n",
        "    return decimal_to_binary(n // 2) + str(n % 2)\n",
        "\n",
        "\n",
        "num= int(input())\n",
        "print(decimal_to_binary(num))"
      ]
    },
    {
      "cell_type": "code",
      "execution_count": 10,
      "metadata": {
        "colab": {
          "base_uri": "https://localhost:8080/"
        },
        "id": "zAzqASU1HBlE",
        "outputId": "d46beffc-98f4-4598-b7d0-18374e81228e"
      },
      "outputs": [
        {
          "name": "stdout",
          "output_type": "stream",
          "text": [
            "100\n"
          ]
        }
      ],
      "source": [
        "#Task2. b\n",
        "class Node:\n",
        "  def __init__(self, e, n):\n",
        "    self.element = e\n",
        "    self.next = n\n",
        "\n",
        "class LinkedList:\n",
        "  def __init__(self, a):\n",
        "    if type(a)== list:\n",
        "        self.head= Node(a[0],None)\n",
        "        shelby= self.head\n",
        "        for i in range(1, len(a)):\n",
        "          new_node= Node(a[i], None)\n",
        "          shelby.next, shelby= new_node, new_node  \n",
        "    else:\n",
        "      self.head= a\n",
        "\n",
        "def sum_linked_list(k):\n",
        "  if k.next== None:\n",
        "    return k.element\n",
        "\n",
        "  sum= k.element+ sum_linked_list(k.next)\n",
        "  return sum\n",
        "\n",
        "\n",
        "arr= [10, 20, 30, 40]\n",
        "l= LinkedList(arr)\n",
        "print(sum_linked_list(l.head))"
      ]
    },
    {
      "cell_type": "code",
      "execution_count": 24,
      "metadata": {
        "colab": {
          "base_uri": "https://localhost:8080/"
        },
        "id": "UMrVa8-dHNXO",
        "outputId": "bba6dc21-5639-443c-dc32-537b8323e26f"
      },
      "outputs": [
        {
          "name": "stdout",
          "output_type": "stream",
          "text": [
            "40\n",
            "30\n",
            "20\n",
            "10\n"
          ]
        }
      ],
      "source": [
        "#Task2. c\n",
        "class Node:\n",
        "  def __init__(self, e, n):\n",
        "    self.element = e\n",
        "    self.next = n\n",
        "\n",
        "class LinkedList:\n",
        "  def __init__(self, a):\n",
        "    if type(a)== list:\n",
        "        self.head= Node(a[0],None)\n",
        "        shelby= self.head\n",
        "        for i in range(1, len(a)):\n",
        "          new_node= Node(a[i], None)\n",
        "          shelby.next, shelby= new_node, new_node  \n",
        "    else:\n",
        "      self.head= a\n",
        "\n",
        "\n",
        "def rev_linked_list(k):\n",
        "  if k.next== None:\n",
        "    return k.element\n",
        "\n",
        "  print(rev_linked_list(k.next))\n",
        "  return k.element\n",
        "\n",
        "\n",
        "arr= [10, 20, 30, 40]\n",
        "l= LinkedList(arr)\n",
        "print(rev_linked_list(l.head))"
      ]
    },
    {
      "cell_type": "code",
      "execution_count": 27,
      "metadata": {
        "colab": {
          "base_uri": "https://localhost:8080/"
        },
        "id": "1KJc0Ec-KK8J",
        "outputId": "d71fc6d1-02cd-4f6b-8dfa-5fefcdd8af11"
      },
      "outputs": [
        {
          "name": "stdout",
          "output_type": "stream",
          "text": [
            "13\n"
          ]
        }
      ],
      "source": [
        "#Task 3\n",
        "def hocBuilder(height):\n",
        "  if height== 0:\n",
        "    return 0\n",
        "  if height== 1:\n",
        "    return 8\n",
        "\n",
        "  val= 5+ hocBuilder(height-1)\n",
        "  return val \n",
        "  \n",
        "\n",
        "num= int(input())\n",
        "print(hocBuilder(num))"
      ]
    },
    {
      "cell_type": "code",
      "execution_count": 4,
      "metadata": {
        "colab": {
          "base_uri": "https://localhost:8080/"
        },
        "id": "Ze0oPXpbNUI0",
        "outputId": "dff904b5-33bf-49a8-b513-eccf548646c7"
      },
      "outputs": [
        {
          "name": "stdout",
          "output_type": "stream",
          "text": [
            "1\n",
            "12\n",
            "123\n",
            "1234\n",
            "12345\n"
          ]
        }
      ],
      "source": [
        "#Task 4. a\n",
        "def star_pattern(outer_num):\n",
        "  if outer_num== 1:\n",
        "    return \"1\"\n",
        "  def row(inner_num):\n",
        "    if inner_num==1:\n",
        "      return \"1\"\n",
        "    val= row(inner_num-1)+str(inner_num)\n",
        "    return val\n",
        "  pattern= f\"{star_pattern(outer_num-1)}\\n{row(outer_num)}\"\n",
        "  return pattern\n",
        "    \n",
        "\n",
        "num= int(input())\n",
        "print(star_pattern(num))"
      ]
    },
    {
      "cell_type": "code",
      "execution_count": 5,
      "metadata": {
        "colab": {
          "base_uri": "https://localhost:8080/"
        },
        "id": "vuZ-WZ3GjWtq",
        "outputId": "f1abe001-f67b-41e0-8d44-f0a4cf21b02b"
      },
      "outputs": [
        {
          "name": "stdout",
          "output_type": "stream",
          "text": [
            "    1\n",
            "   12\n",
            "  123\n",
            " 1234\n",
            "12345\n"
          ]
        }
      ],
      "source": [
        "# Task 4. b\n",
        "def main(num1, num2):\n",
        "    if num1 == 0:\n",
        "        return\n",
        "    spacePrint(num1- 1)\n",
        "    pattern(num2- num1+ 1)\n",
        "    main(num1- 1, num2)\n",
        "\n",
        "def spacePrint(num):\n",
        "    if num == 0:\n",
        "        return\n",
        "    print(\" \", end=\"\")\n",
        "    spacePrint(num - 1)\n",
        "\n",
        "def pattern(num, i= 1):\n",
        "    if num== 0:\n",
        "        print(); return\n",
        "    print(i, end=\"\")\n",
        "    pattern(num- 1, i+1)\n",
        "\n",
        "\n",
        "num = int(input())\n",
        "main(num, num)"
      ]
    },
    {
      "cell_type": "code",
      "execution_count": 1,
      "metadata": {
        "colab": {
          "base_uri": "https://localhost:8080/",
          "height": 415
        },
        "id": "cQg_6y-ct1q6",
        "outputId": "fafcc842-26e4-4d92-d497-b8ac4154718c"
      },
      "outputs": [
        {
          "name": "stdout",
          "output_type": "stream",
          "text": [
            "1. Investment: 25000; Profit: 0.0\n",
            "2. Investment: 100000; Profit: 3375.0\n",
            "3. Investment: 250000; Profit: 15375.0\n",
            "4. Investment: 350000; Profit: 23375.0\n"
          ]
        }
      ],
      "source": [
        "#Task 5\n",
        "class FinalQ:\n",
        "    def print(self,array,idx):\n",
        "        if(idx<len(array)):\n",
        "            profit = self.calcProfit(array[idx])\n",
        "            print(f\"{idx+1}. Investment: {array[idx]}; Profit: {float(profit)}\")\n",
        "            self.print(array,idx+1)\n",
        "            \n",
        "\n",
        "    def calcProfit(self,investment): \n",
        "        if investment<=25000:\n",
        "            return 0\n",
        "        \n",
        "        return 45+self.calcProfit(investment-1000) if 25000<investment<=100000 else 80+self.calcProfit(investment-1000)\n",
        "\n",
        "        \n",
        "  \n",
        "#Tester\n",
        "array=[25000,100000,250000,350000]\n",
        "f = FinalQ()\n",
        "f.print(array,0)"
      ]
    },
    {
      "cell_type": "code",
      "execution_count": 10,
      "metadata": {},
      "outputs": [
        {
          "name": "stdout",
          "output_type": "stream",
          "text": [
            "[1, 2, 3, 4, 5, 6, 7, 8, 9, 10, 11, 12, 13, 14, 15, 16, 17]\n"
          ]
        }
      ],
      "source": [
        "#Updated New Task Recursion \n",
        "def flattenList(given_list, output_list):\n",
        "    if given_list== []:\n",
        "        return output_list\n",
        "    return flattenList(given_list[0], output_list) + flattenList(given_list[1:], output_list) if type(given_list[0])!= int else [given_list[0]]+ flattenList(given_list[1:], output_list)\n",
        "\n",
        "\n",
        "# Driver Code\n",
        "given_list = [1, [2, [3, [4], 5], 6], 7, 8, [9, [[10, 11], 12], 13], 14, [15, [16, [17]]]]\n",
        "output_list = flattenList(given_list, [])\n",
        "print(output_list)"
      ]
    }
  ],
  "metadata": {
    "colab": {
      "provenance": []
    },
    "kernelspec": {
      "display_name": "Python 3",
      "name": "python3"
    },
    "language_info": {
      "codemirror_mode": {
        "name": "ipython",
        "version": 3
      },
      "file_extension": ".py",
      "mimetype": "text/x-python",
      "name": "python",
      "nbconvert_exporter": "python",
      "pygments_lexer": "ipython3",
      "version": "3.10.5"
    }
  },
  "nbformat": 4,
  "nbformat_minor": 0
}
