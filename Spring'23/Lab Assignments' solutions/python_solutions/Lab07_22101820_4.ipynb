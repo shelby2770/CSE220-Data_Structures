{
 "cells": [
  {
   "cell_type": "code",
   "execution_count": 7,
   "metadata": {},
   "outputs": [
    {
     "name": "stdout",
     "output_type": "stream",
     "text": [
      "True\n",
      "[-9, -7, -4, -1, -1, 2, 3, 4, 5, 5, 8]\n"
     ]
    }
   ],
   "source": [
    "#Task 1\n",
    "class keyIndex:\n",
    "    def __init__(self, a):\n",
    "        min_val= a[0]\n",
    "        max_val= a[0]\n",
    "        for ele in a:\n",
    "            if ele<min_val:\n",
    "                min_val= ele\n",
    "            if ele>max_val:\n",
    "                max_val= ele\n",
    "        self.k= [0]* (max_val-min_val+2) #aux_arr +1 because indexing starts from 0 and another +1 to store min_val\n",
    "\n",
    "        for ele in a:\n",
    "            self.k[ele-min_val]+= 1\n",
    "        self.k[len(self.k)-1]= min_val #storing min_val at the last pos of array\n",
    "\n",
    "\n",
    "    def search(self, val):\n",
    "        idx= val-self.k[len(self.k)-1]\n",
    "        if idx>= len(self.k)-1 or idx<0:\n",
    "            return False\n",
    "        return self.k[idx]!=0\n",
    "\n",
    "\n",
    "    def sort(self):\n",
    "        sorted_arr= [0]*len(self.k)\n",
    "        idx= 0\n",
    "        for i in range(len(self.k)-1):#Excluding min_val by -1\n",
    "            tot_elem= self.k[i]\n",
    "            for j in range(tot_elem):\n",
    "                sorted_arr[idx]= i+self.k[len(self.k)-1]\n",
    "                idx+= 1\n",
    "\n",
    "        resized_sort_arr= [0]*idx\n",
    "        for i in range(idx):\n",
    "            resized_sort_arr[i]= sorted_arr[i]\n",
    "        return resized_sort_arr\n",
    "\n",
    "\n",
    "\n",
    "#Driver/Tester Statement\n",
    "arr = [-4, 8, 3, 4, -1, 5, 2, -9, -7, 5, -1]\n",
    "obj = keyIndex(arr)\n",
    "print(obj.search(5))\n",
    "print(obj.sort())"
   ]
  },
  {
   "cell_type": "code",
   "execution_count": 10,
   "metadata": {},
   "outputs": [
    {
     "data": {
      "text/plain": [
       "['4R0EY6BPVLG',\n",
       " 'DKX3YSJVOB1',\n",
       " 'SL9HFJA5WEP',\n",
       " 'ANMJCH7L193',\n",
       " 'ST1E89B8A32',\n",
       " 'TLG82DEUB46',\n",
       " 'QKMR91NO2E6',\n",
       " '85VDXBEFI9U',\n",
       " 'E7BMQA6JD4W']"
      ]
     },
     "execution_count": 10,
     "metadata": {},
     "output_type": "execute_result"
    }
   ],
   "source": [
    "#Task 2\n",
    "def hashing(arr):\n",
    "    hash_table= [None]*9 #Given, the String array will contain no more than 9 values\n",
    "    for ele in arr:\n",
    "        total= 0\n",
    "        for i in ele:\n",
    "            if 65<=ord(i)<=90 and i not in \"AEIOU\":\n",
    "                total+= 24\n",
    "            elif 48<=ord(i)<=57:\n",
    "                total+= int(i)\n",
    "        temp_idx= total%9\t#Hash function calculation\n",
    "        \n",
    "        #linear probing\n",
    "        while hash_table[temp_idx]:\n",
    "            temp_idx= (temp_idx+1)%9\n",
    "        hash_table[temp_idx]= ele\n",
    "    \n",
    "    return hash_table\n",
    "\n",
    "\n",
    "arr= ['ST1E89B8A32', 'SL9HFJA5WEP', 'E7BMQA6JD4W', 'TLG82DEUB46', '85VDXBEFI9U', 'ANMJCH7L193', 'QKMR91NO2E6', '4R0EY6BPVLG', 'DKX3YSJVOB1']\n",
    "hashing(arr)"
   ]
  },
  {
   "cell_type": "code",
   "execution_count": null,
   "metadata": {},
   "outputs": [],
   "source": [
    "#Used the code to generate random string for task 2\n",
    "import random\n",
    "str_= \"ABCDEFGHIJKLMNOPQRSTUVWXYZ0123456789\"\n",
    "lst= []\n",
    "for i in range(9):\n",
    "    sample_input= \"\".join(random.sample(str_, 11))\n",
    "    lst.append(sample_input)\n",
    "print(lst)"
   ]
  }
 ],
 "metadata": {
  "kernelspec": {
   "display_name": "Python 3",
   "language": "python",
   "name": "python3"
  },
  "language_info": {
   "codemirror_mode": {
    "name": "ipython",
    "version": 3
   },
   "file_extension": ".py",
   "mimetype": "text/x-python",
   "name": "python",
   "nbconvert_exporter": "python",
   "pygments_lexer": "ipython3",
   "version": "3.10.5"
  },
  "orig_nbformat": 4
 },
 "nbformat": 4,
 "nbformat_minor": 2
}
