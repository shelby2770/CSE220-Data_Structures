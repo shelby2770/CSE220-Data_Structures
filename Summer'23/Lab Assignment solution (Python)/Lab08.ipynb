{
  "cells": [
    {
      "cell_type": "code",
      "execution_count": 36,
      "metadata": {
        "id": "D6vC520OPeTa"
      },
      "outputs": [],
      "source": [
        "class BTNode:\n",
        "  def __init__(self, elem):\n",
        "    self.elem = elem\n",
        "    self.right = None\n",
        "    self.left = None"
      ]
    },
    {
      "cell_type": "code",
      "execution_count": 37,
      "metadata": {
        "id": "UDTKlm4-PfNM"
      },
      "outputs": [],
      "source": [
        "def inorder(root):\n",
        "  if root == None:\n",
        "    return\n",
        "\n",
        "  inorder(root.left)\n",
        "  print(root.elem, end = ' ')\n",
        "  inorder(root.right)"
      ]
    },
    {
      "cell_type": "code",
      "execution_count": 38,
      "metadata": {
        "colab": {
          "base_uri": "https://localhost:8080/"
        },
        "id": "Rtc22SPzPgzM",
        "outputId": "8d3727f3-a48b-47d0-c6f4-825747b3834b"
      },
      "outputs": [
        {
          "output_type": "stream",
          "name": "stdout",
          "text": [
            "H D B E A I F J C G k "
          ]
        }
      ],
      "source": [
        "def tree_construction(arr, i = 1):\n",
        "  if i>=len(arr) or arr[i] == None:\n",
        "    return None\n",
        "  p = BTNode(arr[i])\n",
        "  p.left = tree_construction(arr, 2*i)\n",
        "  p.right = tree_construction(arr, 2*i+1)\n",
        "  return p\n",
        "\n",
        "\n",
        "root2 = tree_construction([None, 'A', 'B', 'C', 'D', 'E', 'F', 'G', 'H', None, None, None, 'I', 'J', None, 'k'])\n",
        "inorder(root2)"
      ]
    },
    {
      "cell_type": "markdown",
      "metadata": {
        "id": "S2nNCJNhPqGq"
      },
      "source": [
        "Task 1"
      ]
    },
    {
      "cell_type": "code",
      "execution_count": 39,
      "metadata": {
        "colab": {
          "base_uri": "https://localhost:8080/"
        },
        "id": "zbBHU3FoPieb",
        "outputId": "427d1f13-0617-430e-fd7c-9af81956d6c4"
      },
      "outputs": [
        {
          "output_type": "stream",
          "name": "stdout",
          "text": [
            "Given Tree Inorder Traversal:  40 20 60 10 30 \n",
            "Mirrored Tree Inorder Traversal:  30 10 60 20 40 "
          ]
        }
      ],
      "source": [
        "def convert_mirror(root):\n",
        "  if root is None:\n",
        "    return\n",
        "  convert_mirror(root.left)\n",
        "  convert_mirror(root.right)\n",
        "  root.left, root.right= root.right, root.left\n",
        "  return root\n",
        "\n",
        "\n",
        "#DRIVER CODE\n",
        "root = BTNode(10)\n",
        "n1 = BTNode(20)\n",
        "n2 = BTNode(30)\n",
        "n3 = BTNode(40)\n",
        "n4 = BTNode(60)\n",
        "\n",
        "root.left = n1\n",
        "root.right = n2\n",
        "\n",
        "n1.left = n3\n",
        "n1.right = n4\n",
        "\n",
        "print('Given Tree Inorder Traversal: ', end = ' ')\n",
        "inorder(root) #Given Tree Inorder Traversal:  40 20 60 10 30\n",
        "print()\n",
        "\n",
        "root2 = convert_mirror(root)\n",
        "print('Mirrored Tree Inorder Traversal: ', end = ' ')\n",
        "inorder(root2) #Mirrored Tree Inorder Traversal:  30 10 60 20 40"
      ]
    },
    {
      "cell_type": "markdown",
      "metadata": {
        "id": "c-TBf3m0PrtK"
      },
      "source": [
        "Task 2"
      ]
    },
    {
      "cell_type": "code",
      "execution_count": 40,
      "metadata": {
        "colab": {
          "base_uri": "https://localhost:8080/"
        },
        "id": "lsuxinlBPmji",
        "outputId": "c56bb8a3-58eb-4ea4-a5cf-4e2cffedfaa4"
      },
      "outputs": [
        {
          "output_type": "stream",
          "name": "stdout",
          "text": [
            "Given Tree Inorder Traversal:  3 9 5 4 2 7 \n",
            "Level Wise Largest Value:  {0: 4, 1: 9, 2: 7}\n"
          ]
        }
      ],
      "source": [
        "dict_= {}\n",
        "def largest_level(root, lvl= 0):\n",
        "  if root is None:\n",
        "    return dict_\n",
        "  if lvl not in dict_:\n",
        "    dict_[lvl]= root.elem\n",
        "  else:\n",
        "    dict_[lvl]= max(dict_[lvl], root.elem)\n",
        "  largest_level(root.left, lvl+1)\n",
        "  largest_level(root.right, lvl+1)\n",
        "  return dict_\n",
        "\n",
        "\n",
        "#DRIVER CODE\n",
        "root = tree_construction([None, 4,9,2,3,5,None,7])\n",
        "print('Given Tree Inorder Traversal: ', end = ' ')\n",
        "inorder(root) #Given Tree Inorder Traversal:  3 9 5 4 2 7\n",
        "print()\n",
        "print('Level Wise Largest Value: ', end = ' ')\n",
        "print(largest_level(root)) #Level Wise Largest Value:  {0: 4, 1: 9, 2: 7}"
      ]
    },
    {
      "cell_type": "markdown",
      "metadata": {
        "id": "7r3lH3aWPz2d"
      },
      "source": [
        "Task 3"
      ]
    },
    {
      "cell_type": "code",
      "execution_count": 50,
      "metadata": {
        "colab": {
          "base_uri": "https://localhost:8080/"
        },
        "id": "zFwP64v4Pu6d",
        "outputId": "6f17eea5-47da-42e0-9ca0-6d2f719e2547"
      },
      "outputs": [
        {
          "output_type": "stream",
          "name": "stdout",
          "text": [
            "Given Tree Inorder Traversal:  4 8 10 12 14 20 22 \n",
            "Inorder successor of node 8: 10\n"
          ]
        }
      ],
      "source": [
        "def get_leftmost(root):\n",
        "  if root.left is None:\n",
        "    return root\n",
        "  return get_leftmost(root.left)\n",
        "\n",
        "def get_rightmost(root):\n",
        "  if root.right is None:\n",
        "    return root\n",
        "  return get_rightmost(root.right)\n",
        "\n",
        "def get_all_inorder_predecessor(root, x, req_node):\n",
        "  if root is None:\n",
        "    return\n",
        "  if root.left:\n",
        "    ele= get_rightmost(root.left).elem\n",
        "    if ele==x.elem:\n",
        "      req_node= root\n",
        "      return root\n",
        "\n",
        "  left= get_all_inorder_predecessor(root.left, x, req_node)\n",
        "  right= get_all_inorder_predecessor(root.right, x, req_node)\n",
        "  return left if left is None and right is None else (left if left else right)\n",
        "\n",
        "\n",
        "def inorder_successor(root, x):\n",
        "  if x.right is None:\n",
        "    par_node= get_all_inorder_predecessor(root, x, None)\n",
        "    return par_node if par_node else BTNode(-1) #-1 indicates no successor presents of that node\n",
        "  return get_leftmost(x.right)\n",
        "\n",
        "\n",
        "#DRIVER CODE\n",
        "root = BTNode(20)\n",
        "n1 = BTNode(8)\n",
        "n2 = BTNode(22)\n",
        "n3 = BTNode(4)\n",
        "n4 = BTNode(12)\n",
        "n5 = BTNode(10)\n",
        "n6 = BTNode(14)\n",
        "\n",
        "root.left = n1\n",
        "root.right = n2\n",
        "\n",
        "n1.left = n3\n",
        "n1.right = n4\n",
        "\n",
        "n4.left = n5\n",
        "n4.right = n6\n",
        "\n",
        "print('Given Tree Inorder Traversal: ', end = ' ')\n",
        "inorder(root) #Given Tree Inorder Traversal:  4 8 10 12 14 20 22\n",
        "print()\n",
        "\n",
        "x = n1\n",
        "print(f'Inorder successor of node {x.elem}: {inorder_successor(root, x).elem}') #Inorder successor of node 8: 10"
      ]
    },
    {
      "cell_type": "markdown",
      "metadata": {
        "id": "t3IGW4OaP8Vy"
      },
      "source": [
        "Task 4"
      ]
    },
    {
      "cell_type": "code",
      "execution_count": 42,
      "metadata": {
        "id": "d1A-tR7hP2fI",
        "colab": {
          "base_uri": "https://localhost:8080/"
        },
        "outputId": "f6eed6b2-88e9-427d-a81f-17621ad89d50"
      },
      "outputs": [
        {
          "output_type": "stream",
          "name": "stdout",
          "text": [
            "Given Tree Inorder Traversal:  4 5 6 7 8 9 11 12 \n",
            "5\n"
          ]
        }
      ],
      "source": [
        "def count_element(root):\n",
        "  if root is None:\n",
        "    return 0\n",
        "  return 1+count_element(root.left)+count_element(root.right)\n",
        "\n",
        "def inorder_predecessor(root):\n",
        "  if root.right is None:\n",
        "    return root\n",
        "  return inorder_predecessor(root.right)\n",
        "\n",
        "def kth_smallest(root,k,i=0):\n",
        "  left_st= count_element(root.left) if root.left else 0\n",
        "  if left_st== k:\n",
        "    return inorder_predecessor(root.left)\n",
        "\n",
        "  if left_st+1== k:\n",
        "    return root\n",
        "\n",
        "  if k<left_st:\n",
        "    return kth_smallest(root.left,k,i)\n",
        "\n",
        "  k-= (left_st+1)\n",
        "  return kth_smallest(root.right,k,i)\n",
        "\n",
        "#DRIVER CODE\n",
        "root = tree_construction([None, 9,5,11,4,7,None,12,None,None,6,8,None,None,None,None])\n",
        "print('Given Tree Inorder Traversal: ', end = ' ')\n",
        "inorder(root)\n",
        "print()\n",
        "k = 2\n",
        "print(kth_smallest(root,k).elem)"
      ]
    },
    {
      "cell_type": "code",
      "source": [
        "def countVertex(root):\n",
        "  return 1+countVertex(root.left)+countVertex(root.right) if root else 0\n",
        "\n",
        "def kth_smallest(root,k,i=0):\n",
        "  leftCount= countVertex(root.left)\n",
        "  if i+leftCount+1==k:\n",
        "    return root\n",
        "\n",
        "  return kth_smallest(root.right,k,i+leftCount+1) if i+leftCount+1<k else kth_smallest(root.left,k,i)\n",
        "\n",
        "\n",
        "\n",
        "#DRIVER CODE\n",
        "root = tree_construction([None, 9, 5, 11, 4, 7, None, 12, None, None, 6, 8, None, None, None, None])\n",
        "print('Given Tree Inorder Traversal: ', end = ' ')\n",
        "inorder(root)\n",
        "print()\n",
        "k = 4\n",
        "print(kth_smallest(root,k).elem)"
      ],
      "metadata": {
        "colab": {
          "base_uri": "https://localhost:8080/"
        },
        "id": "pycg4-GYj7KN",
        "outputId": "97c48540-2e37-4dd1-90f7-973c11de8003"
      },
      "execution_count": 43,
      "outputs": [
        {
          "output_type": "stream",
          "name": "stdout",
          "text": [
            "Given Tree Inorder Traversal:  4 5 6 7 8 9 11 12 \n",
            "7\n"
          ]
        }
      ]
    },
    {
      "cell_type": "markdown",
      "metadata": {
        "id": "SBD-0xoZP_ni"
      },
      "source": [
        "# Bonus"
      ]
    },
    {
      "cell_type": "code",
      "execution_count": 44,
      "metadata": {
        "id": "m4E9_E8PThk6",
        "colab": {
          "base_uri": "https://localhost:8080/"
        },
        "outputId": "9836c7f1-c783-4d6d-c618-0eee5b9b6fae"
      },
      "outputs": [
        {
          "output_type": "stream",
          "name": "stdout",
          "text": [
            "-4\n"
          ]
        }
      ],
      "source": [
        "def sum_even_lvl(root, lvl= 0):\n",
        "  if root is None:\n",
        "    return 0\n",
        "  sum= 0\n",
        "  if lvl%2== 0:\n",
        "    sum+= root.elem\n",
        "  else:\n",
        "    sum-= root.elem\n",
        "  left_subTree_sum= sum_even_lvl(root.left, lvl+1)\n",
        "  right_subTree_sum= sum_even_lvl(root.right, lvl+1)\n",
        "  return sum+left_subTree_sum+right_subTree_sum\n",
        "\n",
        "\n",
        "\n",
        "\n",
        "root = BTNode(1)\n",
        "n1 = BTNode(2)\n",
        "n2 = BTNode(3)\n",
        "n3 = BTNode(4)\n",
        "n4 = BTNode(5)\n",
        "n5 = BTNode(6)\n",
        "n6 = BTNode(7)\n",
        "n7 = BTNode(8)\n",
        "\n",
        "\n",
        "\n",
        "root.left = n1\n",
        "root.right = n2\n",
        "\n",
        "n1.left = n3\n",
        "n2.left = n4\n",
        "n2.right = n5\n",
        "\n",
        "n4.left = n6\n",
        "n4.right = n7\n",
        "print(sum_even_lvl(root, lvl= 0))"
      ]
    }
  ],
  "metadata": {
    "colab": {
      "provenance": []
    },
    "kernelspec": {
      "display_name": "Python 3",
      "name": "python3"
    },
    "language_info": {
      "name": "python"
    }
  },
  "nbformat": 4,
  "nbformat_minor": 0
}