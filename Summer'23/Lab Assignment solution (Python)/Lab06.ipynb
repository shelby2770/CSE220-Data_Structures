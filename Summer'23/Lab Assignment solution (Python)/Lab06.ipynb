{
  "nbformat": 4,
  "nbformat_minor": 0,
  "metadata": {
    "colab": {
      "provenance": []
    },
    "kernelspec": {
      "name": "python3",
      "display_name": "Python 3"
    },
    "language_info": {
      "name": "python"
    }
  },
  "cells": [
    {
      "cell_type": "code",
      "execution_count": 11,
      "metadata": {
        "colab": {
          "base_uri": "https://localhost:8080/"
        },
        "id": "HDV2tzPIXuLg",
        "outputId": "2dfc282f-5fcc-4f8b-8c33-b3b627803d7a"
      },
      "outputs": [
        {
          "output_type": "stream",
          "name": "stdout",
          "text": [
            "5\n",
            "120\n"
          ]
        }
      ],
      "source": [
        "#Task1. a\n",
        "def fac(n):\n",
        "  return n*fac(n-1) if n>1 else 1\n",
        "\n",
        "num= int(input())\n",
        "print(fac(num) if num>=0 else -fac(-num))"
      ]
    },
    {
      "cell_type": "code",
      "source": [
        "#Task1. b\n",
        "def fibo(n):\n",
        "  return (fibo(n-1)+fibo(n-2)) if n>1 else n\n",
        "\n",
        "num= int(input())\n",
        "print(fibo(num) if num>=0 else \"Invalid\")"
      ],
      "metadata": {
        "colab": {
          "base_uri": "https://localhost:8080/"
        },
        "id": "hnyOap04ZIoU",
        "outputId": "d36f3564-7e9b-4465-d6ac-9858bd4d2590"
      },
      "execution_count": 19,
      "outputs": [
        {
          "output_type": "stream",
          "name": "stdout",
          "text": [
            "8\n",
            "21\n"
          ]
        }
      ]
    },
    {
      "cell_type": "code",
      "source": [
        "#Task1. c\n",
        "def printarr(arr, pos):\n",
        "  if pos== len(arr):\n",
        "    return\n",
        "  print(arr[pos])\n",
        "  printarr(arr, pos+1)\n",
        "\n",
        "arr= [1, 2, 3, 4, 5, 6, 7]\n",
        "printarr(arr, 0)"
      ],
      "metadata": {
        "colab": {
          "base_uri": "https://localhost:8080/"
        },
        "id": "PYSfnXeuwiMC",
        "outputId": "8c3dc9b4-64e1-4a75-ddb7-d903c1c24423"
      },
      "execution_count": 22,
      "outputs": [
        {
          "output_type": "stream",
          "name": "stdout",
          "text": [
            "1\n",
            "2\n",
            "3\n",
            "4\n",
            "5\n",
            "6\n",
            "7\n"
          ]
        }
      ]
    },
    {
      "cell_type": "code",
      "source": [
        "#Task1. d\n",
        "def powerN(val,power):\n",
        "  return val*powerN(val, power-1) if power>0 else 1\n",
        "\n",
        "n= int(input())\n",
        "k= int(input())\n",
        "print(powerN(n,k) if k>=0 else 1/powerN(n,-k))"
      ],
      "metadata": {
        "id": "LeIBNLOReiRJ",
        "colab": {
          "base_uri": "https://localhost:8080/"
        },
        "outputId": "7b8ca248-7d03-4e84-f4e0-7ef0b461105f"
      },
      "execution_count": 49,
      "outputs": [
        {
          "output_type": "stream",
          "name": "stdout",
          "text": [
            "3\n",
            "3\n",
            "27\n"
          ]
        }
      ]
    },
    {
      "cell_type": "code",
      "source": [
        "#Task2. a\n",
        "def decimal_to_binary(n):\n",
        "    return decimal_to_binary(n // 2) + str(n % 2) if n>1 else str(n)\n",
        "\n",
        "num= int(input())\n",
        "print(decimal_to_binary(num))"
      ],
      "metadata": {
        "colab": {
          "base_uri": "https://localhost:8080/"
        },
        "id": "bMFMjfqq8Jt1",
        "outputId": "9a24f72e-246c-4751-adf9-68367f778eed"
      },
      "execution_count": 59,
      "outputs": [
        {
          "output_type": "stream",
          "name": "stdout",
          "text": [
            "2770\n",
            "101011010010\n"
          ]
        }
      ]
    },
    {
      "cell_type": "code",
      "source": [
        "#Task2. b\n",
        "class Node:\n",
        "  def __init__(self, e, n= None):\n",
        "    self.element = e\n",
        "    self.next = n\n",
        "\n",
        "class LinkedList:\n",
        "  def __init__(self, a):\n",
        "    self.head= Node(a[0])\n",
        "    temp= self.head\n",
        "    for i in range(1, len(a)):\n",
        "      temp.next= Node(a[i])\n",
        "      temp= temp.next\n",
        "\n",
        "\n",
        "def sum_linked_list(k):\n",
        "  return k.element+ sum_linked_list(k.next) if k else 0\n",
        "\n",
        "arr= [10, 20, 30, 40]\n",
        "ll= LinkedList(arr)\n",
        "print(sum_linked_list(ll.head))"
      ],
      "metadata": {
        "colab": {
          "base_uri": "https://localhost:8080/"
        },
        "id": "Gyd5RzTl9DZl",
        "outputId": "96dda5d3-3124-4047-84c2-015a1edc158a"
      },
      "execution_count": 67,
      "outputs": [
        {
          "output_type": "stream",
          "name": "stdout",
          "text": [
            "100\n"
          ]
        }
      ]
    },
    {
      "cell_type": "code",
      "source": [
        "#Task2. c\n",
        "def rev_linked_list(k):\n",
        "  if not k.next:\n",
        "    return k.element\n",
        "  print(rev_linked_list(k.next))\n",
        "  return k.element\n",
        "\n",
        "print(rev_linked_list(ll.head))"
      ],
      "metadata": {
        "colab": {
          "base_uri": "https://localhost:8080/"
        },
        "id": "yUDD9yxL-Z1m",
        "outputId": "b31edd91-84d8-4050-e3f6-2a9f121bcba2"
      },
      "execution_count": 75,
      "outputs": [
        {
          "output_type": "stream",
          "name": "stdout",
          "text": [
            "40\n",
            "30\n",
            "20\n",
            "10\n"
          ]
        }
      ]
    },
    {
      "cell_type": "code",
      "source": [
        "#Task 3\n",
        "def hocBuilder(height):\n",
        "  return 5+ hocBuilder(height-1) if height>1 else 8 if height else 0\n",
        "\n",
        "num= int(input())\n",
        "print(hocBuilder(num))"
      ],
      "metadata": {
        "colab": {
          "base_uri": "https://localhost:8080/"
        },
        "id": "YR-V9pt7_9HV",
        "outputId": "3ca6f3ef-5f62-44ce-e710-2edb27fa691e"
      },
      "execution_count": 78,
      "outputs": [
        {
          "output_type": "stream",
          "name": "stdout",
          "text": [
            "3\n",
            "18\n"
          ]
        }
      ]
    },
    {
      "cell_type": "code",
      "source": [
        "#Task 4. a\n",
        "def star_pattern(outer_num):\n",
        "  if outer_num== 1:\n",
        "    return \"1\"\n",
        "\n",
        "  def row(inner_num):\n",
        "    if inner_num==1:\n",
        "      return \"1\"\n",
        "    val= row(inner_num-1)+str(inner_num)\n",
        "    return val\n",
        "  pattern= f\"{star_pattern(outer_num-1)}\\n{row(outer_num)}\"\n",
        "  return pattern\n",
        "\n",
        "\n",
        "num= int(input())\n",
        "print(star_pattern(num))"
      ],
      "metadata": {
        "colab": {
          "base_uri": "https://localhost:8080/"
        },
        "id": "gBwvJbSzArC-",
        "outputId": "38808bcd-75bb-4fa1-d338-6dee14832618"
      },
      "execution_count": 79,
      "outputs": [
        {
          "output_type": "stream",
          "name": "stdout",
          "text": [
            "5\n",
            "1\n",
            "12\n",
            "123\n",
            "1234\n",
            "12345\n"
          ]
        }
      ]
    },
    {
      "cell_type": "code",
      "source": [
        "# Task 4. b\n",
        "def main(num1, num2):\n",
        "    if num1 == 0:\n",
        "        return\n",
        "    spacePrint(num1- 1)\n",
        "    pattern(num2- num1+ 1)\n",
        "    main(num1- 1, num2)\n",
        "\n",
        "def spacePrint(num):\n",
        "    if num == 0:\n",
        "        return\n",
        "    print(\" \", end=\"\")\n",
        "    spacePrint(num - 1)\n",
        "\n",
        "def pattern(num, i= 1):\n",
        "    if num== 0:\n",
        "        print(); return\n",
        "    print(i, end=\"\")\n",
        "    pattern(num- 1, i+1)\n",
        "\n",
        "\n",
        "num = int(input())\n",
        "main(num, num)"
      ],
      "metadata": {
        "colab": {
          "base_uri": "https://localhost:8080/"
        },
        "id": "mFkPe4wwBuUX",
        "outputId": "995922bf-cbd6-417b-e55b-e3ad8d46ae6d"
      },
      "execution_count": 80,
      "outputs": [
        {
          "output_type": "stream",
          "name": "stdout",
          "text": [
            "5\n",
            "    1\n",
            "   12\n",
            "  123\n",
            " 1234\n",
            "12345\n"
          ]
        }
      ]
    },
    {
      "cell_type": "code",
      "source": [
        "#Task 5\n",
        "import sys\n",
        "sys.setrecursionlimit(10000)\n",
        "class FinalQ:\n",
        "  def print(self,array,idx):\n",
        "    if(idx<len(array)):\n",
        "      profit = self.calcProfit(array[idx])\n",
        "      print(f\"{idx+1}. Investment: {array[idx]}; Profit: {float(profit)}\")\n",
        "      self.print(array,idx+1)\n",
        "\n",
        "  def calcProfit(self,investment):\n",
        "    return 0 if investment<=25000 else 45+self.calcProfit(investment-1000) if 25000<investment<=100000 else 8+self.calcProfit(investment-100)\n",
        "\n",
        "\n",
        "#Tester\n",
        "array=[25000,100000,250000,350000]\n",
        "f = FinalQ()\n",
        "f.print(array,0)"
      ],
      "metadata": {
        "colab": {
          "base_uri": "https://localhost:8080/"
        },
        "id": "nsoXcRMWByWm",
        "outputId": "f8bf8ffa-022c-4960-ed5b-6e06b77ceb05"
      },
      "execution_count": 83,
      "outputs": [
        {
          "output_type": "stream",
          "name": "stdout",
          "text": [
            "1. Investment: 25000; Profit: 0.0\n",
            "2. Investment: 100000; Profit: 3375.0\n",
            "3. Investment: 250000; Profit: 15375.0\n",
            "4. Investment: 350000; Profit: 23375.0\n"
          ]
        }
      ]
    },
    {
      "cell_type": "code",
      "source": [
        "#must done task\n",
        "#Task 1\n",
        "def flattenList(given_list, output_list):\n",
        "    return output_list if given_list== [] else flattenList(given_list[0], output_list) + flattenList(given_list[1:], output_list) if type(given_list[0]) is not int else [given_list[0]]+ flattenList(given_list[1:], output_list)\n",
        "\n",
        "\n",
        "given_list = [1, [2, [3, [4], 5], 6], 7, 8, [9, [[10, 11], 12], 13], 14, [15, [16, [17]]]]\n",
        "output_list = flattenList(given_list, []) # Initial empty list is sent for update\n",
        "print(output_list)"
      ],
      "metadata": {
        "colab": {
          "base_uri": "https://localhost:8080/"
        },
        "id": "uW436E60eD7g",
        "outputId": "eadefd3e-9064-4370-89ab-f518a6eb0ae3"
      },
      "execution_count": 99,
      "outputs": [
        {
          "output_type": "stream",
          "name": "stdout",
          "text": [
            "[1, 2, 3, 4, 5, 6, 7, 8, 9, 10, 11, 12, 13, 14, 15, 16, 17]\n"
          ]
        }
      ]
    },
    {
      "cell_type": "code",
      "source": [
        "#Ungraded Task\n",
        "class Node:\n",
        "  def __init__(self, next, bottom, val):\n",
        "    self.next = next # for next item\n",
        "    self.bottom = bottom # for nested item check\n",
        "    self.val = val # The integer value.\n",
        "\n",
        "class LinkedList:\n",
        "  def __init__(self, a):\n",
        "    self.head= None\n",
        "    self.temp= None\n",
        "    self.flattenList(a)\n",
        "\n",
        "  def flattenList(self, given_list):\n",
        "    if given_list== []:\n",
        "      return\n",
        "    else:\n",
        "      if type(given_list[0])== list:\n",
        "        self.flattenList(given_list[0])\n",
        "      else:\n",
        "        if self.head is None:\n",
        "          self.head= Node(None, None, given_list[0])\n",
        "          self.temp= self.head\n",
        "        else:\n",
        "          new_node= Node(None, None, given_list[0])\n",
        "          self.temp.next= new_node\n",
        "          self.temp= self.temp.next\n",
        "      self.flattenList(given_list[1:])\n",
        "\n",
        "\n",
        "given_list = [1, [2, [3, [4], 5], 6], 7, 8, [9, [[10, 11], 12], 13], 14, [15, [16, [17]]]]\n",
        "ll= LinkedList(given_list)\n",
        "\n",
        "def printLL(k):\n",
        "  while k is not None:\n",
        "    print(k.val, end= \" \")\n",
        "    k= k.next\n",
        "printLL(ll.head)"
      ],
      "metadata": {
        "id": "_GOFPC6ymCp9",
        "colab": {
          "base_uri": "https://localhost:8080/"
        },
        "outputId": "1864d698-9290-4953-9753-6dc5e8d3c8cd"
      },
      "execution_count": 100,
      "outputs": [
        {
          "output_type": "stream",
          "name": "stdout",
          "text": [
            "1 2 3 4 5 6 7 8 9 10 11 12 13 14 15 16 17 "
          ]
        }
      ]
    }
  ]
}