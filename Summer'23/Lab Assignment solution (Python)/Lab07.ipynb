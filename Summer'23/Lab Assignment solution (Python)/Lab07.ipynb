{
  "cells": [
    {
      "cell_type": "code",
      "execution_count": 1,
      "metadata": {
        "colab": {
          "base_uri": "https://localhost:8080/"
        },
        "id": "CvHWU9VwU1DB",
        "outputId": "ee77c350-9364-4596-eefd-10c7e5de3f00"
      },
      "outputs": [
        {
          "name": "stdout",
          "output_type": "stream",
          "text": [
            "Requirement already satisfied: fhm-unittest in c:\\python310\\lib\\site-packages (1.0.0)\n"
          ]
        },
        {
          "name": "stderr",
          "output_type": "stream",
          "text": [
            "WARNING: You are using pip version 22.0.4; however, version 23.2.1 is available.\n",
            "You should consider upgrading via the 'C:\\Python310\\python.exe -m pip install --upgrade pip' command.\n"
          ]
        },
        {
          "name": "stdout",
          "output_type": "stream",
          "text": [
            "Requirement already satisfied: fuzzywuzzy in c:\\python310\\lib\\site-packages (0.18.0)\n"
          ]
        },
        {
          "name": "stderr",
          "output_type": "stream",
          "text": [
            "WARNING: You are using pip version 22.0.4; however, version 23.2.1 is available.\n",
            "You should consider upgrading via the 'C:\\Python310\\python.exe -m pip install --upgrade pip' command.\n"
          ]
        }
      ],
      "source": [
        "# You must run this cell to install dependency\n",
        "! pip3 install fhm-unittest\n",
        "! pip3 install fuzzywuzzy\n",
        "import fhm_unittest as unittest\n",
        "import numpy as np"
      ]
    },
    {
      "cell_type": "markdown",
      "metadata": {
        "id": "uuc9lAd6YgTI"
      },
      "source": [
        "Run this cell first"
      ]
    },
    {
      "cell_type": "code",
      "execution_count": 2,
      "metadata": {
        "id": "BQi67-3NU3GS"
      },
      "outputs": [],
      "source": [
        "class Node:\n",
        "  def __init__(self, elem, next = None):\n",
        "    self.elem, self.next = elem, next\n",
        "\n",
        "def create_linked_list(arr):\n",
        "  head = Node(arr[0])\n",
        "  tail = head\n",
        "  for i in arr[1:]:\n",
        "    new_node = Node(i)\n",
        "    tail.next = new_node\n",
        "    tail = new_node\n",
        "  return head\n",
        "\n",
        "def count(head):\n",
        "  count = 0\n",
        "  while head != None:\n",
        "    count += 1\n",
        "    head = head.next\n",
        "  return count\n",
        "\n",
        "def print_linked_list(head):\n",
        "  while head != None:\n",
        "    print(head.elem, end = '-> ')\n",
        "    head = head.next\n",
        "  print('None')\n",
        "  print()"
      ]
    },
    {
      "cell_type": "markdown",
      "metadata": {
        "id": "34hWSyDJYn25"
      },
      "source": [
        "#TASK 1\n",
        "> You can use Dictionary, Set and membership operator (in/not in) for this task. Membership Operator takes constant time in these unordered collections.\n",
        "\n",
        "\n",
        "\n",
        "However,\n",
        "\n",
        "\n",
        ">  ***DO NOT USE*** Membership Operator in List, String for this task.\n",
        "\n",
        "> You can traverse the array ***ONLY ONCE*** (i.e. no nested loop).\n",
        "\n",
        "\n",
        "\n"
      ]
    },
    {
      "cell_type": "code",
      "execution_count": 3,
      "metadata": {
        "id": "mi8D3lXRaEDL"
      },
      "outputs": [],
      "source": [
        "#Do by yourself\n",
        "def nerdy_run(path,k):\n",
        "  dict_path= {}\n",
        "  for i in range(len(path)):\n",
        "    if path[i] in dict_path and i-dict_path[path[i]]<=k:\n",
        "      return path[i]\n",
        "    dict_path[path[i]]= i\n",
        "  return None\n"
      ]
    },
    {
      "cell_type": "code",
      "execution_count": 4,
      "metadata": {
        "colab": {
          "base_uri": "https://localhost:8080/"
        },
        "id": "eHa5uJahWA3o",
        "outputId": "046438bc-b753-4d3f-af38-965d4a27d5c5"
      },
      "outputs": [
        {
          "name": "stdout",
          "output_type": "stream",
          "text": [
            "Accepted\n",
            "Duplicate value within range 3 is: 9\n",
            "===================================\n",
            "Accepted\n",
            "Duplicate value within range 4 is: None\n",
            "===================================\n",
            "Accepted\n",
            "Duplicate value within range 7 is: 0.21\n"
          ]
        },
        {
          "name": "stderr",
          "output_type": "stream",
          "text": [
            "c:\\Python310\\lib\\site-packages\\fuzzywuzzy\\fuzz.py:11: UserWarning: Using slow pure-python SequenceMatcher. Install python-Levenshtein to remove this warning\n",
            "  warnings.warn('Using slow pure-python SequenceMatcher. Install python-Levenshtein to remove this warning')\n"
          ]
        }
      ],
      "source": [
        "def main():\n",
        "\n",
        "  path = [6,7,8,9,5,9]\n",
        "  k = 3\n",
        "  result = nerdy_run(path,k)\n",
        "  unittest.output_test(result, 9)\n",
        "  print(f'Duplicate value within range {k} is: {result}') #Duplicate value within range 3 is: 9\n",
        "\n",
        "  print('===================================')\n",
        "  path = [6,7,8,9,5,6]\n",
        "  k = 4\n",
        "  result = nerdy_run(path,k)\n",
        "  unittest.output_test(result, None)\n",
        "  print(f'Duplicate value within range {k} is: {result}') #Duplicate value within range 4 is: None\n",
        "\n",
        "  print('===================================')\n",
        "  path = [0.21,1.21,4.67,0.21,0.45,1.9]\n",
        "  k = 7\n",
        "  result = nerdy_run(path,k)\n",
        "  unittest.output_test(result, 0.21)\n",
        "  print(f'Duplicate value within range {k} is: {result}') #Duplicate value within range 7 is: 0.21\n",
        "\n",
        "\n",
        "if __name__ == \"__main__\":\n",
        "  main()"
      ]
    },
    {
      "cell_type": "markdown",
      "metadata": {
        "id": "B92R0bs3X_kI"
      },
      "source": [
        "#TASK 2\n",
        "Complete the following methods:\n",
        "\n",
        ">  __hash_function()\n",
        "\n",
        "> search_hashtable()\n",
        "\n",
        "\n",
        "\n"
      ]
    },
    {
      "cell_type": "code",
      "execution_count": 5,
      "metadata": {
        "id": "1aobPPrAVXCB"
      },
      "outputs": [],
      "source": [
        "class Hashtable:\n",
        "  def __init__(self, size):\n",
        "    self.ht = [None]*size\n",
        "\n",
        "\n",
        "  def insert(self, s):\n",
        "    if self.search_hashtable(s) == 'Found':\n",
        "      print(s,'Already Inserted. Cannot reinsert.')\n",
        "      print('===============================')\n",
        "      return\n",
        "    key = self.__hash_function(s)\n",
        "    node = Node(s)\n",
        "    if self.ht[key] == None:\n",
        "      self.ht[key] = node\n",
        "    else:\n",
        "      node.next = self.ht[key]\n",
        "      self.ht[key] = node\n",
        "\n",
        "  def create_from_array(self, arr):\n",
        "    for i in arr:\n",
        "      self.insert(i)\n",
        "\n",
        "  def print_hashtable(self):\n",
        "    idx = 0\n",
        "    for i in self.ht:\n",
        "      print(idx, ':', end = ' ')\n",
        "      print_linked_list(i)\n",
        "      idx += 1\n",
        "\n",
        "\n",
        "  #Do by yourself\n",
        "  def __hash_function(self, s):\n",
        "    if len(s)%2:\n",
        "      s+= \"N\"\n",
        "    key= 0\n",
        "    for i in range(0,len(s),2):\n",
        "      key+= int(str(ord(s[i]))+str(ord(s[i+1])))\n",
        "\n",
        "    return key%(len(self.ht))\n",
        "\n",
        "  #Do by yourself\n",
        "  def search_hashtable(self, s):\n",
        "    get_key= self.__hash_function(s)\n",
        "    k= self.ht[get_key]\n",
        "    while k is not None:\n",
        "      if k.elem== s:\n",
        "        return \"Found\"\n",
        "      k= k.next\n",
        "    return \"Not Found\""
      ]
    },
    {
      "cell_type": "code",
      "execution_count": 6,
      "metadata": {
        "colab": {
          "base_uri": "https://localhost:8080/"
        },
        "id": "dpDpMZSgV_XU",
        "outputId": "44b6d564-3e76-4dff-a771-77e0a4ab67e0"
      },
      "outputs": [
        {
          "name": "stdout",
          "output_type": "stream",
          "text": [
            "0 : None\n",
            "\n",
            "1 : Bo-> None\n",
            "\n",
            "2 : Emz-> Colt-> None\n",
            "\n",
            "3 : Shelly-> None\n",
            "\n",
            "4 : Doug-> Cordelius-> None\n",
            "\n",
            "======================\n",
            "Accepted\n",
            "Doug Found\n",
            "======================\n",
            "Doug Already Inserted. Cannot reinsert.\n",
            "===============================\n",
            "0 : None\n",
            "\n",
            "1 : Bo-> None\n",
            "\n",
            "2 : Emz-> Colt-> None\n",
            "\n",
            "3 : Shelly-> None\n",
            "\n",
            "4 : Doug-> Cordelius-> None\n",
            "\n",
            "======================\n",
            "Accepted\n",
            "Edgar Not Found\n",
            "======================\n",
            "0 : Edgar-> None\n",
            "\n",
            "1 : Bo-> None\n",
            "\n",
            "2 : Emz-> Colt-> None\n",
            "\n",
            "3 : Shelly-> None\n",
            "\n",
            "4 : Doug-> Cordelius-> None\n",
            "\n",
            "======================\n",
            "Accepted\n",
            "Edgar Found\n"
          ]
        }
      ],
      "source": [
        "arr = ['Colt', 'Cordelius', 'Shelly', 'Doug', 'Emz', 'Bo']\n",
        "ht = Hashtable(5)\n",
        "ht.create_from_array(arr)\n",
        "ht.print_hashtable()\n",
        "'''\n",
        "0 : None\n",
        "\n",
        "1 : Bo-> None\n",
        "\n",
        "2 : Emz-> Colt-> None\n",
        "\n",
        "3 : Shelly-> None\n",
        "\n",
        "4 : Doug-> Cordelius-> None\n",
        "\n",
        "'''\n",
        "\n",
        "print('======================')\n",
        "result = ht.search_hashtable('Doug')\n",
        "unittest.output_test(result, 'Found')\n",
        "print(f'Doug {result}') #This should print 'Doug Found'\n",
        "\n",
        "print('======================')\n",
        "ht.insert('Doug') #This will print 'Doug Already Inserted. Cannot reinsert.'\n",
        "ht.print_hashtable()\n",
        "'''\n",
        "0 : None\n",
        "\n",
        "1 : Bo-> None\n",
        "\n",
        "2 : Emz-> Colt-> None\n",
        "\n",
        "3 : Shelly-> None\n",
        "\n",
        "4 : Doug-> Cordelius-> None\n",
        "\n",
        "'''\n",
        "\n",
        "print('======================')\n",
        "result = ht.search_hashtable('Edgar')\n",
        "unittest.output_test(result, 'Not Found')\n",
        "print(f'Edgar {result}') #This should print 'Edgar Not Found'\n",
        "\n",
        "print('======================')\n",
        "ht.insert('Edgar')\n",
        "ht.print_hashtable()\n",
        "'''\n",
        "0 : Edgar-> None\n",
        "\n",
        "1 : Bo-> None\n",
        "\n",
        "2 : Emz-> Colt-> None\n",
        "\n",
        "3 : Shelly-> None\n",
        "\n",
        "4 : Doug-> Cordelius-> None\n",
        "\n",
        "'''\n",
        "\n",
        "print('======================')\n",
        "result = ht.search_hashtable('Edgar')\n",
        "unittest.output_test(result, 'Found')\n",
        "print(f'Edgar {result}') #This should print 'Edgar Found'"
      ]
    },
    {
      "cell_type": "markdown",
      "metadata": {
        "id": "DzykBxGicdBw"
      },
      "source": [
        "#TASK 3\n",
        "Complete the following methods:\n",
        "\n",
        "\n",
        "\n",
        "> create_layered_hashtable()\n",
        "\n",
        "> search_element()"
      ]
    },
    {
      "cell_type": "code",
      "execution_count": 7,
      "metadata": {
        "id": "MkJtkO-ydCSw"
      },
      "outputs": [],
      "source": [
        "class Layered_Hashtable:\n",
        "  def __init__(self, express_array_size):\n",
        "    self.express_array = [None] * express_array_size\n",
        "\n",
        "  def print_express_lane(self):\n",
        "    for i in self.express_array:\n",
        "      print(i.elem, end = ' '*10)\n",
        "    print()\n",
        "\n",
        "  def print_layered_hashtable(self):\n",
        "    print('Express Lane is:')\n",
        "    self.print_express_lane()\n",
        "\n",
        "    for i in range (len(self.express_array)-1):\n",
        "      node = self.express_array[i]\n",
        "      next_node = self.express_array[i+1]\n",
        "      print(f'Normal Lane Nodes between Express Lane Node {node.elem} and Express Lane Node {next_node.elem} are: ')\n",
        "      while node != next_node:\n",
        "        print(node.elem, end = '->')\n",
        "        node = node.next\n",
        "      print()\n",
        "\n",
        "    print(f'Normal Lane Nodes ending in the Express Lane Node: {node.elem}')\n",
        "\n",
        "\n",
        "  #DO IT YOURSELF\n",
        "  def create_layered_hashtable(self, linked_list_head):\n",
        "    global count\n",
        "    bucket_size= count(linked_list_head)//len(self.express_array)+1\n",
        "    last_node_arr= [None]* len(self.express_array)\n",
        "    k= linked_list_head\n",
        "    insert_idx= 0\n",
        "    while k is not None:\n",
        "      self.express_array[insert_idx]= k\n",
        "      for i in range(bucket_size):\n",
        "        if k.next== None:\n",
        "          return\n",
        "        k= k.next\n",
        "      insert_idx+= 1\n",
        "\n",
        "  #DO IT YOURSELF\n",
        "  def search_element(self,k):\n",
        "    for i in range(len(self.express_array)):\n",
        "      if i== len(self.express_array)-1 or self.express_array[i].elem<=k<self.express_array[i+1].elem:\n",
        "        node= self.express_array[i]\n",
        "        while node is not None:\n",
        "          if node.elem== k:\n",
        "            return \"Found\"\n",
        "          node= node.next\n",
        "        return \"Not Found\""
      ]
    },
    {
      "cell_type": "code",
      "execution_count": 8,
      "metadata": {
        "colab": {
          "base_uri": "https://localhost:8080/"
        },
        "id": "9lxnCzZ6fymw",
        "outputId": "4388cedc-6900-485a-8790-6ddae64f253b"
      },
      "outputs": [
        {
          "name": "stdout",
          "output_type": "stream",
          "text": [
            "Express Lane is:\n",
            "4          18          62          84          \n",
            "Normal Lane Nodes between Express Lane Node 4 and Express Lane Node 18 are: \n",
            "4->6->9->\n",
            "Normal Lane Nodes between Express Lane Node 18 and Express Lane Node 62 are: \n",
            "18->25->37->\n",
            "Normal Lane Nodes between Express Lane Node 62 and Express Lane Node 84 are: \n",
            "62->67->79->\n",
            "Normal Lane Nodes ending in the Express Lane Node: 84\n",
            "==========1===========\n",
            "Accepted\n",
            "67 Found\n",
            "==========2===========\n",
            "Accepted\n",
            "84 Found\n",
            "==========3===========\n",
            "Accepted\n",
            "1 Not Found\n",
            "==========4===========\n",
            "Accepted\n",
            "92 Not Found\n",
            "==========5===========\n",
            "Accepted\n",
            "41 Not Found\n"
          ]
        }
      ],
      "source": [
        "arr = [4,6,9,18,25,37,62,67,79,84]\n",
        "head = create_linked_list(arr)\n",
        "express_array_size = 4\n",
        "\n",
        "layered_ht = Layered_Hashtable(express_array_size)\n",
        "layered_ht.create_layered_hashtable(head)\n",
        "layered_ht.print_layered_hashtable()\n",
        "\n",
        "print('==========1===========')\n",
        "result = layered_ht.search_element(67)\n",
        "unittest.output_test(result, 'Found')\n",
        "print(f'67 {result}') #67 Found\n",
        "\n",
        "print('==========2===========')\n",
        "result = layered_ht.search_element(84)\n",
        "unittest.output_test(result, 'Found')\n",
        "print(f'84 {result}') #84 Found\n",
        "\n",
        "print('==========3===========')\n",
        "result = layered_ht.search_element(1)\n",
        "unittest.output_test(result, 'Not Found')\n",
        "print(f'1 {result}') #1 Not Found\n",
        "\n",
        "print('==========4===========')\n",
        "result = layered_ht.search_element(92)\n",
        "unittest.output_test(result, 'Not Found')\n",
        "print(f'92 {result}') #92 Not Found\n",
        "\n",
        "print('==========5===========')\n",
        "result = layered_ht.search_element(41)\n",
        "unittest.output_test(result, 'Not Found')\n",
        "print(f'41 {result}') #41 Not Found"
      ]
    }
  ],
  "metadata": {
    "colab": {
      "provenance": []
    },
    "kernelspec": {
      "display_name": "Python 3",
      "name": "python3"
    },
    "language_info": {
      "codemirror_mode": {
        "name": "ipython",
        "version": 3
      },
      "file_extension": ".py",
      "mimetype": "text/x-python",
      "name": "python",
      "nbconvert_exporter": "python",
      "pygments_lexer": "ipython3",
      "version": "3.10.5"
    }
  },
  "nbformat": 4,
  "nbformat_minor": 0
}
