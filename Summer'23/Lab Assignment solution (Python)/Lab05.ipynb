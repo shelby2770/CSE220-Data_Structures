{
  "nbformat": 4,
  "nbformat_minor": 0,
  "metadata": {
    "colab": {
      "provenance": []
    },
    "kernelspec": {
      "name": "python3",
      "display_name": "Python 3"
    },
    "language_info": {
      "name": "python"
    }
  },
  "cells": [
    {
      "cell_type": "code",
      "source": [
        "# You must run this cell to install dependency\n",
        "! pip3 install fhm-unittest\n",
        "! pip3 install fuzzywuzzy\n",
        "import fhm_unittest as unittest\n",
        "import numpy as np"
      ],
      "metadata": {
        "id": "BLfLeW_0cACI",
        "outputId": "45628046-56fd-4400-a5ad-173be14b47dd",
        "colab": {
          "base_uri": "https://localhost:8080/"
        }
      },
      "execution_count": 29,
      "outputs": [
        {
          "output_type": "stream",
          "name": "stdout",
          "text": [
            "Requirement already satisfied: fhm-unittest in /usr/local/lib/python3.10/dist-packages (1.0.1)\n",
            "Requirement already satisfied: fuzzywuzzy in /usr/local/lib/python3.10/dist-packages (0.18.0)\n"
          ]
        }
      ]
    },
    {
      "cell_type": "markdown",
      "source": [
        "Implement the Stack class first"
      ],
      "metadata": {
        "id": "QVD5nPVKckgE"
      }
    },
    {
      "cell_type": "markdown",
      "source": [
        "Take help from this [stack note](https://docs.google.com/document/d/1SAdvXigDtA5tIkk7Fs1wGs9-hEROYUBOY1v6VxBpU60/edit?usp=sharing)\n",
        "\n"
      ],
      "metadata": {
        "id": "0XW_lxvto7Q5"
      }
    },
    {
      "cell_type": "code",
      "execution_count": 30,
      "metadata": {
        "id": "Qce1WOLmbu9R"
      },
      "outputs": [],
      "source": [
        "class Node:\n",
        "  def __init__(self,elem=None,next=None):\n",
        "    self.elem = elem\n",
        "    self.next = next\n",
        "\n",
        "class Stack:\n",
        "  def __init__(self):\n",
        "    self.__top= None\n",
        "\n",
        "  def push(self,elem):\n",
        "    self.__top= Node(elem,self.__top)\n",
        "\n",
        "  def pop(self):\n",
        "    if self.__top:\n",
        "      x=self.__top.elem\n",
        "      self.__top =self.__top.next\n",
        "      return x\n",
        "    return None\n",
        "\n",
        "  def peek(self):\n",
        "    return self.__top.elem if self.__top else None\n",
        "\n",
        "  def isEmpty(self):\n",
        "    return self.__top== None"
      ]
    },
    {
      "cell_type": "code",
      "source": [
        "st = Stack()\n",
        "st.push(4)\n",
        "st.push(3)\n",
        "st.push(5)\n",
        "st.push(1)\n",
        "st.push(9)\n",
        "\n",
        "\n",
        "print('Peeked Element: ',st.peek()) #This should print 9\n",
        "print('Popped Element: ',st.pop()) #This should print 9\n",
        "print('Popped Element: ',st.pop()) #This should print 1\n",
        "print('Popped Element: ',st.pop()) #This should print 5\n",
        "print('Peeked Element: ',st.peek()) #This should print 3\n",
        "print('Popped Element: ',st.pop()) #This should print 3\n",
        "print('Popped Element: ',st.pop()) #This should print 4\n",
        "print('Peeked Element: ',st.peek()) #This should print None\n",
        "print('Popped Element: ',st.pop()) #This should print None\n",
        "print(st.isEmpty()) #This should print True"
      ],
      "metadata": {
        "id": "L7iKoojZcDX1",
        "colab": {
          "base_uri": "https://localhost:8080/"
        },
        "outputId": "3346ce95-d0b8-4e70-a715-631f171b4ddd"
      },
      "execution_count": 31,
      "outputs": [
        {
          "output_type": "stream",
          "name": "stdout",
          "text": [
            "Peeked Element:  9\n",
            "Popped Element:  9\n",
            "Popped Element:  1\n",
            "Popped Element:  5\n",
            "Peeked Element:  3\n",
            "Popped Element:  3\n",
            "Popped Element:  4\n",
            "Peeked Element:  None\n",
            "Popped Element:  None\n",
            "True\n"
          ]
        }
      ]
    },
    {
      "cell_type": "markdown",
      "source": [
        "You can print your stack using this code segment"
      ],
      "metadata": {
        "id": "QqGlPO8Ic7kK"
      }
    },
    {
      "cell_type": "code",
      "source": [
        "def print_stack(st):\n",
        "  if st.isEmpty():\n",
        "    return\n",
        "  p = st.pop()\n",
        "  print('|',p,end=' ')\n",
        "  if p<10:\n",
        "    print(' |')\n",
        "  else:\n",
        "    print('|')\n",
        "  #print('------')\n",
        "  print_stack(st)\n",
        "  st.push(p)\n",
        "\n",
        "# st = Stack()\n",
        "# st.push(4)\n",
        "# st.push(3)\n",
        "# st.push(5)\n",
        "# st.push(1)\n",
        "# st.push(9)\n",
        "# print_stack(st)\n",
        "# print('------')"
      ],
      "metadata": {
        "id": "0nM-nMGCcIJX"
      },
      "execution_count": 32,
      "outputs": []
    },
    {
      "cell_type": "markdown",
      "source": [
        "Task 1: Parenthesis Balancing:"
      ],
      "metadata": {
        "id": "OFq5wTZehLh4"
      }
    },
    {
      "cell_type": "code",
      "source": [
        "def matching_pair(x, y):\n",
        "  return x== \"(\" and y== \")\" or x== \"{\" and y== \"}\" or x== \"[\" and y== \"]\"\n",
        "\n",
        "def balance_parenthesis(string):\n",
        "  st= Stack()\n",
        "  for i in string:\n",
        "    if i in \"({[\":\n",
        "      st.push(i)\n",
        "    elif i in \")}]\":\n",
        "      peeked_ele= st.pop()\n",
        "      if peeked_ele== None:\n",
        "        return False\n",
        "      checker= matching_pair(peeked_ele, i)\n",
        "      if not checker:\n",
        "        return False\n",
        "\n",
        "  return st.isEmpty()== 1\n",
        "\n",
        "\n",
        "st = Stack()\n",
        "print('Test 01')\n",
        "s = '1+2*(3/4)'\n",
        "returned_value = balance_parenthesis(s)\n",
        "print('Balanced') if returned_value else print('Unbalanced') #This should print Balanced\n",
        "unittest.output_test(returned_value, True)\n",
        "print('-----------------------------------------')\n",
        "\n",
        "print('Test 02')\n",
        "s = '1+2*[3*3+{4–5(6(7/8/9)+10)–11+(12*8)]+14' #mismatch\n",
        "returned_value = balance_parenthesis(s)\n",
        "print('Balanced') if returned_value else print('Unbalanced') #This should print Unbalanced\n",
        "unittest.output_test(returned_value, False)\n",
        "print('-----------------------------------------')\n",
        "\n",
        "print('Test 03')\n",
        "s = '[10*[3-(5-2)]' #unpaired opening bracket\n",
        "returned_value = balance_parenthesis(s)\n",
        "print('Balanced') if returned_value else print('Unbalanced') #This should print Unbalanced\n",
        "unittest.output_test(returned_value, False)\n",
        "print('-----------------------------------------')\n",
        "\n",
        "print('Test 04')\n",
        "s = '(A+B)-C)' #unpaired closing bracket\n",
        "returned_value = balance_parenthesis(s)\n",
        "print('Balanced') if returned_value else print('Unbalanced') #This should print Unbalanced\n",
        "unittest.output_test(returned_value, False)\n",
        "print('-----------------------------------------')\n",
        "\n",
        "print('Test 05')\n",
        "s = '([A+B]-C)/{D*E}+[2*[{5B(2A+5)}]-{7C-9AB}]'\n",
        "returned_value = balance_parenthesis(s)\n",
        "print('Balanced') if returned_value else print('Unbalanced') #This should print Balanced\n",
        "unittest.output_test(returned_value, True)\n",
        "print('-----------------------------------------')\n"
      ],
      "metadata": {
        "id": "fPTZmWXtdPv7",
        "colab": {
          "base_uri": "https://localhost:8080/"
        },
        "outputId": "360ca6e6-a3dd-40c0-9459-15866bc38c2c"
      },
      "execution_count": 33,
      "outputs": [
        {
          "output_type": "stream",
          "name": "stdout",
          "text": [
            "Test 01\n",
            "Balanced\n",
            "Accepted\n",
            "-----------------------------------------\n",
            "Test 02\n",
            "Unbalanced\n",
            "Accepted\n",
            "-----------------------------------------\n",
            "Test 03\n",
            "Unbalanced\n",
            "Accepted\n",
            "-----------------------------------------\n",
            "Test 04\n",
            "Unbalanced\n",
            "Accepted\n",
            "-----------------------------------------\n",
            "Test 05\n",
            "Balanced\n",
            "Accepted\n",
            "-----------------------------------------\n"
          ]
        }
      ]
    },
    {
      "cell_type": "markdown",
      "source": [
        "Task 2: Diamond Count"
      ],
      "metadata": {
        "id": "i2LySc-6l0Cs"
      }
    },
    {
      "cell_type": "code",
      "source": [
        "def diamond_count(stack,string):\n",
        "  count= 0\n",
        "  for i in string:\n",
        "    if i==\"<\":\n",
        "      stack.push(i)\n",
        "    elif i==\">\" and not stack.isEmpty():\n",
        "      stack.pop()\n",
        "      count+=1\n",
        "\n",
        "  return count\n",
        "\n",
        "\n",
        "\n",
        "print('Test 01')\n",
        "stack = Stack()\n",
        "string = '<..><.<..>> '\n",
        "returned_value = diamond_count(stack,string)\n",
        "print(f'Number of Diamonds: {returned_value}') #This should print 3\n",
        "unittest.output_test(returned_value, 3)\n",
        "print('-----------------------------------------')\n",
        "\n",
        "\n",
        "print('Test 02')\n",
        "stack = Stack()\n",
        "string = '<<<..<......<<<<....>'\n",
        "returned_value = diamond_count(stack,string)\n",
        "print(f'Number of Diamonds: {returned_value}') #This should print 1\n",
        "unittest.output_test(returned_value, 1)\n",
        "print('-----------------------------------------')\n",
        "\n",
        "\n",
        "print('Test 03')\n",
        "stack = Stack()\n",
        "string = '>>><...<<..>>...>...>>>'\n",
        "returned_value = diamond_count(stack,string)\n",
        "print(f'Number of Diamonds: {returned_value}') #This should print 3\n",
        "unittest.output_test(returned_value, 3)\n",
        "print('-----------------------------------------')"
      ],
      "metadata": {
        "id": "CxGFyO8PeMSz",
        "colab": {
          "base_uri": "https://localhost:8080/"
        },
        "outputId": "2346500c-12e4-42b6-8296-a871c9e9aa8a"
      },
      "execution_count": 34,
      "outputs": [
        {
          "output_type": "stream",
          "name": "stdout",
          "text": [
            "Test 01\n",
            "Number of Diamonds: 3\n",
            "Accepted\n",
            "-----------------------------------------\n",
            "Test 02\n",
            "Number of Diamonds: 1\n",
            "Accepted\n",
            "-----------------------------------------\n",
            "Test 03\n",
            "Number of Diamonds: 3\n",
            "Accepted\n",
            "-----------------------------------------\n"
          ]
        }
      ]
    },
    {
      "cell_type": "markdown",
      "source": [
        "BONUS (Tower of God)"
      ],
      "metadata": {
        "id": "XtxbhOhhlUZb"
      }
    },
    {
      "cell_type": "code",
      "source": [
        "def remove_block(st, n):\n",
        "  temp_stack= Stack()\n",
        "  for i in range(n):\n",
        "    temp_stack.push(st.pop())\n",
        "  temp_stack.pop()\n",
        "\n",
        "  while not temp_stack.isEmpty():\n",
        "    st.push(temp_stack.pop())\n",
        "\n",
        "  return st\n",
        "\n",
        "\n",
        "print('Test 01')\n",
        "st = Stack()\n",
        "st.push(4)\n",
        "st.push(19)\n",
        "st.push(23)\n",
        "st.push(17)\n",
        "st.push(5)\n",
        "print('Stack:')\n",
        "print_stack(st)\n",
        "print('------')\n",
        "remove_block(st,2)\n",
        "print('After Removal')\n",
        "print_stack(st)\n",
        "print('------')\n",
        "\n",
        "print()\n",
        "print('======================================')\n",
        "print()\n",
        "\n",
        "print('Test 02')\n",
        "st = Stack()\n",
        "st.push(73)\n",
        "st.push(85)\n",
        "st.push(15)\n",
        "st.push(41)\n",
        "print('Stack:')\n",
        "print_stack(st)\n",
        "print('------')\n",
        "remove_block(st,3)\n",
        "print('After Removal')\n",
        "print_stack(st)\n",
        "print('------')\n",
        "\n",
        "print()\n",
        "print('======================================')\n",
        "print()"
      ],
      "metadata": {
        "id": "K0n5UeZFj_eq",
        "colab": {
          "base_uri": "https://localhost:8080/"
        },
        "outputId": "abeea238-7efb-472a-da0b-3dfd6c647238"
      },
      "execution_count": 35,
      "outputs": [
        {
          "output_type": "stream",
          "name": "stdout",
          "text": [
            "Test 01\n",
            "Stack:\n",
            "| 5  |\n",
            "| 17 |\n",
            "| 23 |\n",
            "| 19 |\n",
            "| 4  |\n",
            "------\n",
            "After Removal\n",
            "| 5  |\n",
            "| 23 |\n",
            "| 19 |\n",
            "| 4  |\n",
            "------\n",
            "\n",
            "======================================\n",
            "\n",
            "Test 02\n",
            "Stack:\n",
            "| 41 |\n",
            "| 15 |\n",
            "| 85 |\n",
            "| 73 |\n",
            "------\n",
            "After Removal\n",
            "| 41 |\n",
            "| 15 |\n",
            "| 73 |\n",
            "------\n",
            "\n",
            "======================================\n",
            "\n"
          ]
        }
      ]
    }
  ]
}