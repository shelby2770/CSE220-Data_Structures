{
  "nbformat": 4,
  "nbformat_minor": 0,
  "metadata": {
    "colab": {
      "provenance": []
    },
    "kernelspec": {
      "name": "python3",
      "display_name": "Python 3"
    },
    "language_info": {
      "name": "python"
    }
  },
  "cells": [
    {
      "cell_type": "markdown",
      "source": [
        "**Task 1**"
      ],
      "metadata": {
        "id": "TyB_4NXl3nZh"
      }
    },
    {
      "cell_type": "code",
      "source": [
        "class Hashtable:\n",
        "    def __init__(self, size):\n",
        "        self.size = size\n",
        "        self.ht = [None] * size\n",
        "        self.new_arr = [None] * size\n",
        "\n",
        "    #Do by yourself\n",
        "    def __hash_function(self, s, i=0, even_digit_sum=0):\n",
        "      if i== len(s):\n",
        "        return 0\n",
        "      if s[i] in \"2468\":\n",
        "        return int(s[i])+self.__hash_function(s,i+1,even_digit_sum)\n",
        "      return (self.__hash_function(s,i+1,even_digit_sum))\n",
        "\n",
        "\n",
        "    def insert_pos(self, idx, s):\n",
        "      if self.new_arr[idx]== None:\n",
        "        self.new_arr[idx]= s\n",
        "        return\n",
        "      self.insert_pos((idx+1)%self.size, s)\n",
        "\n",
        "    #Do by yourself\n",
        "    def insert(self, s):\n",
        "      get_hash_func= self.__hash_function(s, 0, even_digit_sum=0)%len(self.ht)\n",
        "      self.insert_pos(get_hash_func, s)\n",
        "\n",
        "      if self.ht[get_hash_func]== None:\n",
        "        self.ht[get_hash_func]= []\n",
        "      self.ht[get_hash_func].append(s)\n",
        "\n",
        "    def create_from_array(self, arr):\n",
        "        for i in arr:\n",
        "            self.insert(i)\n",
        "\n",
        "    def print_hashtable(self):\n",
        "        for i, list_i in enumerate(self.ht):\n",
        "            print(i,':', list_i)\n",
        "\n",
        "strings = [\"ST1E82\", \"H2O\", \"X4Y5\", \"Z3A5\", \"E8I1\", \"U3O9\"]\n",
        "\n",
        "hash_table1 = Hashtable(len(strings))\n",
        "\n",
        "hash_table1.create_from_array(strings)\n",
        "\n",
        "hash_table1.print_hashtable()\n",
        "print(hash_table1.new_arr)\n",
        "print('=====================================')\n",
        "\n",
        "strings = [\"1ABCD43\", \"X26YZ3\", \"KL0\", \"Z3B5\", \"MB186\", \"WS63\"]\n",
        "\n",
        "hash_table = Hashtable(len(strings))\n",
        "\n",
        "hash_table.create_from_array(strings)\n",
        "\n",
        "hash_table.print_hashtable()"
      ],
      "metadata": {
        "colab": {
          "base_uri": "https://localhost:8080/"
        },
        "id": "0I_3b1Yi4L0l",
        "outputId": "142e1d37-b903-4bb0-9519-dd9a2c5ea841"
      },
      "execution_count": null,
      "outputs": [
        {
          "output_type": "stream",
          "name": "stdout",
          "text": [
            "0 : ['Z3A5', 'U3O9']\n",
            "1 : None\n",
            "2 : ['H2O', 'E8I1']\n",
            "3 : None\n",
            "4 : ['ST1E82', 'X4Y5']\n",
            "5 : None\n",
            "['Z3A5', 'U3O9', 'H2O', 'E8I1', 'ST1E82', 'X4Y5']\n",
            "=====================================\n",
            "0 : ['KL0', 'Z3B5', 'WS63']\n",
            "1 : None\n",
            "2 : ['X26YZ3', 'MB186']\n",
            "3 : None\n",
            "4 : ['1ABCD43']\n",
            "5 : None\n"
          ]
        }
      ]
    },
    {
      "cell_type": "markdown",
      "source": [
        "**Task 2**"
      ],
      "metadata": {
        "id": "DRd5lPxn3qQZ"
      }
    },
    {
      "cell_type": "code",
      "source": [
        "class BTNode:\n",
        "  def __init__(self, elem):\n",
        "    self.elem = elem\n",
        "    self.right = None\n",
        "    self.left = None"
      ],
      "metadata": {
        "id": "vs5ZGTZADV-d"
      },
      "execution_count": null,
      "outputs": []
    },
    {
      "cell_type": "code",
      "source": [
        "def inorder(root):\n",
        "  if root == None:\n",
        "    return\n",
        "\n",
        "  inorder(root.left)\n",
        "  print(root.elem, end = ' ')\n",
        "  inorder(root.right)"
      ],
      "metadata": {
        "id": "6RX60HzFDdTu"
      },
      "execution_count": null,
      "outputs": []
    },
    {
      "cell_type": "code",
      "source": [
        "def tree_construction(arr, i = 1):\n",
        "  if i>=len(arr) or arr[i] == None:\n",
        "    return None\n",
        "\n",
        "  p = BTNode(arr[i])\n",
        "  p.left = tree_construction(arr, 2*i)\n",
        "  p.right = tree_construction(arr, 2*i+1)\n",
        "  return p"
      ],
      "metadata": {
        "id": "XZZx_KGlDgnN"
      },
      "execution_count": null,
      "outputs": []
    },
    {
      "cell_type": "code",
      "source": [
        "#Do by yourself\n",
        "def leaf_node(root):\n",
        "    if root is None:\n",
        "      return\n",
        "    if root.left is None and root.right is None:\n",
        "      print(root.elem, end= \" \")\n",
        "    leaf_node(root.left)\n",
        "    leaf_node(root.right)\n",
        "\n",
        "root = tree_construction([None, 13, 22, 7, 10, 14, None, 15])\n",
        "print('Given Tree Inorder Traversal: ', end = ' ')\n",
        "inorder(root)\n",
        "print()\n",
        "print('Values of the leaf nodes of the tree:')\n",
        "leaf_node(root)"
      ],
      "metadata": {
        "colab": {
          "base_uri": "https://localhost:8080/"
        },
        "id": "6gKZPca8mB6h",
        "outputId": "862e549f-f2f4-4622-9f22-387e96a18c01"
      },
      "execution_count": null,
      "outputs": [
        {
          "output_type": "stream",
          "name": "stdout",
          "text": [
            "Given Tree Inorder Traversal:  10 22 14 13 7 15 \n",
            "Values of the leaf nodes of the tree:\n",
            "10 14 15 "
          ]
        }
      ]
    }
  ]
}